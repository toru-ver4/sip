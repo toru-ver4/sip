{
 "cells": [
  {
   "cell_type": "markdown",
   "metadata": {},
   "source": [
    "# はじめに\n",
    "\n",
    "急にムラムラしてきたので、xyY の Color Volume をプロットしてみる。<br>\n",
    "初の3次元プロットだけど上手くいくかしら？\n",
    "\n",
    "# やり方\n",
    "\n",
    "大きく2通りある。\n",
    "\n",
    "1. R, G, B を 0～255 まで振って $2^{24}$ 通りの xyY をプロットする\n",
    "2. gamut 内部を 100x100 くらいでサンプリングして、各点でYが最大となるRGBの組を求め、それを xyY に変換する\n",
    "\n",
    "1.のやり方を「全網羅」、2.のやり方を「外面」と呼ぶことにする。\n",
    "\n",
    "# 全網羅 方式\n",
    "\n",
    "0～255 はあまり意味ないので、0～1 でやりましょう。\n",
    "\n",
    "```\n",
    "r = np.linspace(0, 1, 256)\n",
    "g = np.linspace(0, 1, 256)\n",
    "b = np.linspace(0, 1, 256)\n",
    "```\n",
    "\n",
    "的な感じで。\n",
    "\n",
    "# 外面 方式\n",
    "\n",
    "こちらは少々面倒くさい。\n",
    "\n",
    "1. xy 平面上を 100x100 くらいでサンプリングする。\n",
    "2. 各点が gamut の領域内か判定。領域内なら配列に入れる。\n",
    "3. 領域内の xy ペア を $Y=1$で xyY --> RGBに変換。この時、RGBが1.0 を超えた場合は max が 1.0 となるよう正規化する。\n",
    "4. 正規化した RGB 値を xyY に変換。そしてプロット。\n",
    "\n",
    "# で、どれを実装するの？\n",
    "\n",
    "面白そうな外面方式を組んで見る。"
   ]
  },
  {
   "cell_type": "code",
   "execution_count": 1,
   "metadata": {
    "collapsed": false
   },
   "outputs": [
    {
     "data": {
      "text/plain": [
       "<module 'plor_color_gamut' from 'C:\\\\home\\\\sip\\\\matplotlib\\\\color_volume\\\\plor_color_gamut.py'>"
      ]
     },
     "execution_count": 1,
     "metadata": {},
     "output_type": "execute_result"
    }
   ],
   "source": [
    "\n",
    "%matplotlib inline\n",
    "import plor_color_gamut as pcg\n",
    "import imp\n",
    "imp.reload(pcg)\n",
    "pcg"
   ]
  }
 ],
 "metadata": {
  "kernelspec": {
   "display_name": "Python 3",
   "language": "python",
   "name": "python3"
  },
  "language_info": {
   "codemirror_mode": {
    "name": "ipython",
    "version": 3
   },
   "file_extension": ".py",
   "mimetype": "text/x-python",
   "name": "python",
   "nbconvert_exporter": "python",
   "pygments_lexer": "ipython3",
   "version": "3.5.1"
  }
 },
 "nbformat": 4,
 "nbformat_minor": 0
}
