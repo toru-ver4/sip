{
 "cells": [
  {
   "cell_type": "markdown",
   "metadata": {},
   "source": [
    "# Signal Gneration のサンプルコード\n",
    "\n",
    "## 単色画像作成"
   ]
  },
  {
   "cell_type": "code",
   "execution_count": 58,
   "metadata": {
    "collapsed": false
   },
   "outputs": [
    {
     "data": {
      "image/png": "[encoded data removed]",
      "text/plain": [
       "<matplotlib.figure.Figure at 0x2cf8a443128>"
      ]
     },
     "metadata": {},
     "output_type": "display_data"
    }
   ],
   "source": [
    "import matplotlib.pyplot as plt\n",
    "import numpy as np\n",
    "import cv2\n",
    "%matplotlib inline\n",
    "\n",
    "width = 640\n",
    "height = 160\n",
    "\n",
    "\"\"\"\n",
    "変数 color で色を指定。特に断りがなければ配列で設定する。\n",
    "idxの若い方から順に R,G,B の順。\n",
    "値域は 0～1。\n",
    "例を以下に示す。\n",
    "　灰色：(0.5, 0.5, 0.5)\n",
    "　赤色：(1, 0, 0)\n",
    "  黄色：(1, 1, 0)\n",
    "\"\"\"\n",
    "color = (0.5, 0.5, 0.0)\n",
    "\n",
    "# 全ての値が1の画像を生成\n",
    "# --------------------------------\n",
    "img = np.ones(shape=(height, width, 3), dtype=np.float64)  # height, width の順序に注意\n",
    "\n",
    "# color の内容に img のデータを書き換える\n",
    "# -----------------------------------------\n",
    "color = np.array(color)\n",
    "img[:, :] = color\n",
    "\n",
    "# ファイル出力のために int型 に変換\n",
    "# -------------------------------------\n",
    "output_dtype = np.uint8\n",
    "output_fname = 'hoge.tif'\n",
    "img_max_value = np.iinfo(output_dtype).max\n",
    "out_img = np.round(img * img_max_value)  # 最大値をint型に合わせる\n",
    "out_img = out_img.astype(output_dtype)   # 型をfloatからintに変換\n",
    "cv2.imwrite(output_fname, out_img[:, :, ::-1])  # opencv の関数は GBR基準なので RGBに並べ替える\n",
    "\n",
    "# 画像表示\n",
    "# ------------------\n",
    "fig = plt.figure(figsize=(16, 4))\n",
    "ax1 = fig.add_subplot(111)\n",
    "ax1.set_axis_off()\n",
    "ax1.imshow(img)\n",
    "plt.show()"
   ]
  },
  {
   "cell_type": "markdown",
   "metadata": {},
   "source": [
    "## 単色グラデーション作成(基本編)\n",
    "ここでは、float型で良い感じのグラデーションを作成する方法を紹介する。"
   ]
  },
  {
   "cell_type": "code",
   "execution_count": 2,
   "metadata": {
    "collapsed": false
   },
   "outputs": [
    {
     "data": {
      "image/png": "[encoded data removed]",
      "text/plain": [
       "<matplotlib.figure.Figure at 0x1e5cfebb550>"
      ]
     },
     "metadata": {},
     "output_type": "display_data"
    }
   ],
   "source": [
    "import test_pattern_generator as tpg\n",
    "import matplotlib.pyplot as plt\n",
    "import numpy as np\n",
    "import cv2\n",
    "%matplotlib inline\n",
    "\n",
    "width = 640\n",
    "height = 160\n",
    "\n",
    "\"\"\"\n",
    "変数 color で色を指定。特に断りがなければ配列で設定する。\n",
    "idxの若い方から順に R,G,B の順。\n",
    "値域は 0～1。\n",
    "例を以下に示す。\n",
    "　灰色：(0.5, 0.5, 0.5)\n",
    "　赤色：(1, 0, 0)\n",
    "  黄色：(1, 1, 0)\n",
    "\"\"\"\n",
    "color = np.array((1.0, 0.0, 0.0))  # 今回は事前に np.array をしておきます\n",
    "offset = 0.0               # 黒から輝度が増加するグラデーション用\n",
    "offset_for_sat_grad = 1.0  # 色から彩度が増加するグラデーション用\n",
    "grad_direction = 'h' # グラデーションがH方向かV方向かを決める\n",
    "step_num = 16  # 階段状のグラデーションの階段数\n",
    "step_grad_bit_depth = 8\n",
    "\n",
    "# まずは世間一般にいうグラデーションを作る\n",
    "# -----------------------------------------------\n",
    "img = tpg.gen_gradation_bar(width=width, height=height, color=color,\n",
    "                            direction='h', offset=offset)\n",
    "\n",
    "# 滑らかではなく階段状のグラデーションを作る\n",
    "# -----------------------------------------------\n",
    "\"\"\"下記関数の出力は 0～65535 である。0.0～1.0 ではないので注意！\"\"\"\n",
    "img_step = tpg.gen_step_gradation(width=width, height=height, step_num=17,\n",
    "                                  bit_depth=step_grad_bit_depth, color=color,\n",
    "                                  direction='h')\n",
    "\n",
    "# 彩度方向のグラデーションを作る\n",
    "# -----------------------------------------------\n",
    "img_sat_grad = tpg.gen_gradation_bar(width=width, height=height, color=color,\n",
    "                                     direction='h', offset=offset_for_sat_grad)\n",
    "\n",
    "# ファイル出力のために int型 に変換\n",
    "# -------------------------------------\n",
    "\"\"\"省略します\"\"\"\n",
    "\n",
    "# 画像表示\n",
    "# ------------------\n",
    "fig = plt.figure(figsize=(16, 12))\n",
    "ax1 = fig.add_subplot(311)\n",
    "ax2 = fig.add_subplot(312)\n",
    "ax3 = fig.add_subplot(313)\n",
    "ax1.set_axis_off()\n",
    "ax2.set_axis_off()\n",
    "ax3.set_axis_off()\n",
    "ax1.imshow(img)\n",
    "ax2.imshow(img_step / np.iinfo(np.uint16).max)  # np.uint16型なので正規化する\n",
    "ax3.imshow(img_sat_grad)\n",
    "plt.show()"
   ]
  },
  {
   "cell_type": "markdown",
   "metadata": {},
   "source": [
    "## 単色グラデーション作成(応用編)\n",
    "ここでは「水平方向4pxごとに1階調増えるグラーションを作る」みたいな厳しい要求に耐えるグラデーション作成方法を記す。"
   ]
  },
  {
   "cell_type": "code",
   "execution_count": 60,
   "metadata": {
    "collapsed": false
   },
   "outputs": [
    {
     "data": {
      "image/png": "[encoded data removed]",
      "text/plain": [
       "<matplotlib.figure.Figure at 0x2cf8a424cf8>"
      ]
     },
     "metadata": {},
     "output_type": "display_data"
    }
   ],
   "source": [
    "import test_pattern_generator as tpg\n",
    "import matplotlib.pyplot as plt\n",
    "import numpy as np\n",
    "import cv2\n",
    "%matplotlib inline\n",
    "\n",
    "width = 1024\n",
    "height = 128\n",
    "\n",
    "\"\"\"\n",
    "変数 color で色を指定。特に断りがなければ配列で設定する。\n",
    "idxの若い方から順に R,G,B の順。\n",
    "値域は 0～1。\n",
    "例を以下に示す。\n",
    "　灰色：(0.5, 0.5, 0.5)\n",
    "　赤色：(1, 0, 0)\n",
    "  黄色：(1, 1, 0)\n",
    "\"\"\"\n",
    "color = np.array((1.0, 0.0, 0.0))  # 今回は事前に np.array をしておきます\n",
    "offset = 0.0               # 黒から輝度が増加するグラデーション用\n",
    "offset_for_sat_grad = 1.0  # 色から彩度が増加するグラデーション用\n",
    "grad_direction = 'h' # グラデーションがH方向かV方向かを決める\n",
    "step_grad_bit_depth = 8\n",
    "step_num = (2 ** step_grad_bit_depth) + 1  # 階段状のグラデーションの階段数\n",
    "\n",
    "# 1階調ずつ増加する画像を作る。\n",
    "# -----------------------------------------------\n",
    "img_step = tpg.gen_step_gradation(width=width, height=height, step_num=step_num,\n",
    "                                  bit_depth=step_grad_bit_depth, color=color,\n",
    "                                  direction='h')\n",
    "# ファイル出力のために int型 に変換\n",
    "# -------------------------------------\n",
    "\"\"\"省略します\"\"\"\n",
    "\n",
    "# 画像表示\n",
    "# ------------------\n",
    "fig = plt.figure(figsize=(16, 9))\n",
    "ax1 = fig.add_subplot(111)\n",
    "ax1.set_axis_off()\n",
    "ax1.imshow(img_step / np.iinfo(np.uint16).max)  # np.uint16型なので正規化する\n",
    "plt.show()"
   ]
  },
  {
   "cell_type": "markdown",
   "metadata": {},
   "source": [
    "## 複数色グラデーション作成\n",
    "\n",
    "実はそんなに難しいことはしていない。単色を束ねて複数色にするだけ。"
   ]
  },
  {
   "cell_type": "code",
   "execution_count": 1,
   "metadata": {
    "collapsed": false
   },
   "outputs": [
    {
     "data": {
      "image/png": "[encoded data removed]",
      "text/plain": [
       "<matplotlib.figure.Figure at 0x16ff4c129e8>"
      ]
     },
     "metadata": {},
     "output_type": "display_data"
    }
   ],
   "source": [
    "import test_pattern_generator as tpg\n",
    "import matplotlib.pyplot as plt\n",
    "import numpy as np\n",
    "import cv2\n",
    "%matplotlib inline\n",
    "\n",
    "width = 640\n",
    "height = 160\n",
    "\n",
    "\"\"\"\n",
    "変数 color で色を指定。特に断りがなければ配列で設定する。\n",
    "idxの若い方から順に R,G,B の順。\n",
    "値域は 0～1。\n",
    "例を以下に示す。\n",
    "　灰色：(0.5, 0.5, 0.5)\n",
    "　赤色：(1, 0, 0)\n",
    "  黄色：(1, 1, 0)\n",
    "\"\"\"\n",
    "r_color = np.array((1.0, 0.0, 0.0))\n",
    "g_color = np.array((0.0, 1.0, 0.0))\n",
    "b_color = np.array((0.0, 0.0, 1.0))\n",
    "offset = 0.0               # 黒から輝度が増加するグラデーション用\n",
    "grad_direction = 'h' # グラデーションがH方向かV方向かを決める\n",
    "\n",
    "# 各色のグラデーションを作る\n",
    "# -----------------------------------------------\n",
    "r_img = tpg.gen_gradation_bar(width=width, height=height, color=r_color,\n",
    "                              direction='h', offset=offset)\n",
    "g_img = tpg.gen_gradation_bar(width=width, height=height, color=g_color,\n",
    "                              direction='h', offset=offset)\n",
    "b_img = tpg.gen_gradation_bar(width=width, height=height, color=b_color,\n",
    "                              direction='h', offset=offset)\n",
    "\n",
    "# 結合\n",
    "# -------------------------------------------------\n",
    "img = np.vstack((r_img, g_img, b_img))\n",
    "\n",
    "# ファイル出力のために int型 に変換\n",
    "# -------------------------------------\n",
    "\"\"\"省略します\"\"\"\n",
    "\n",
    "# 画像表示\n",
    "# ------------------\n",
    "fig = plt.figure(figsize=(16, 12))\n",
    "ax1 = fig.add_subplot(111)\n",
    "ax1.set_axis_off()\n",
    "ax1.imshow(img)\n",
    "plt.show()"
   ]
  }
 ],
 "metadata": {
  "kernelspec": {
   "display_name": "Python 3",
   "language": "python",
   "name": "python3"
  },
  "language_info": {
   "codemirror_mode": {
    "name": "ipython",
    "version": 3
   },
   "file_extension": ".py",
   "mimetype": "text/x-python",
   "name": "python",
   "nbconvert_exporter": "python",
   "pygments_lexer": "ipython3",
   "version": "3.5.1"
  }
 },
 "nbformat": 4,
 "nbformat_minor": 0
}
