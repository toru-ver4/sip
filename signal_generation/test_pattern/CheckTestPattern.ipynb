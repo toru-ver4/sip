{
 "cells": [
  {
   "cell_type": "markdown",
   "metadata": {},
   "source": [
    "# クロスハッチパターンの作成\n",
    "まずは、非常に汎用性の高い内部関数を作る。\n",
    "次に、使用方法を制限した外部公開用の関数を作る。"
   ]
  },
  {
   "cell_type": "code",
   "execution_count": 2,
   "metadata": {
    "collapsed": false
   },
   "outputs": [],
   "source": [
    "# コアとなる関数の動作確認\n",
    "# -------------------------\n",
    "%matplotlib inline\n",
    "import cv2\n",
    "import check_test_pattern as ctp\n",
    "import test_pattern_generator as tpg\n",
    "import imp\n",
    "imp.reload(ctp)\n",
    "imp.reload(tpg)\n",
    "\n",
    "dummy = tpg.make_crosshatch(width=1920, height=1080,\n",
    "                    linewidth=1, linetype=cv2.LINE_AA,\n",
    "                    fragment_width=64, fragment_height=64,\n",
    "                    bg_color=tpg.const_black, fg_color=tpg.const_white,\n",
    "                    angle=30, debug=True)"
   ]
  },
  {
   "cell_type": "code",
   "execution_count": 6,
   "metadata": {
    "collapsed": false
   },
   "outputs": [],
   "source": [
    "# 汎用性の低いやつ\n",
    "# -------------------------\n",
    "%matplotlib inline\n",
    "import cv2\n",
    "import check_test_pattern as ctp\n",
    "import test_pattern_generator as tpg\n",
    "import imp\n",
    "imp.reload(ctp)\n",
    "imp.reload(tpg)\n",
    "\n",
    "dummy = tpg.make_multi_crosshatch(width=1920, height=1080,\n",
    "                          h_block=4, v_block=2,\n",
    "                          fragment_width=64, fragment_height=64,\n",
    "                          linewidth=1, linetype=cv2.LINE_AA,\n",
    "                          bg_color_array=tpg.const_gray_array_lower,\n",
    "                          fg_color_array=tpg.const_white_array,\n",
    "                          angle=30, debug=True)"
   ]
  },
  {
   "cell_type": "code",
   "execution_count": 5,
   "metadata": {
    "collapsed": false
   },
   "outputs": [
    {
     "ename": "ValueError",
     "evalue": "order parameter is invalid",
     "output_type": "error",
     "traceback": [
      "\u001b[1;31m---------------------------------------------------------------------------\u001b[0m",
      "\u001b[1;31mValueError\u001b[0m                                Traceback (most recent call last)",
      "\u001b[1;32m<ipython-input-5-396daeec4e61>\u001b[0m in \u001b[0;36m<module>\u001b[1;34m()\u001b[0m\n\u001b[0;32m      8\u001b[0m \u001b[0mimp\u001b[0m\u001b[1;33m.\u001b[0m\u001b[0mreload\u001b[0m\u001b[1;33m(\u001b[0m\u001b[0mctp\u001b[0m\u001b[1;33m)\u001b[0m\u001b[1;33m\u001b[0m\u001b[0m\n\u001b[0;32m      9\u001b[0m \u001b[0mimp\u001b[0m\u001b[1;33m.\u001b[0m\u001b[0mreload\u001b[0m\u001b[1;33m(\u001b[0m\u001b[0mtpg\u001b[0m\u001b[1;33m)\u001b[0m\u001b[1;33m\u001b[0m\u001b[0m\n\u001b[1;32m---> 10\u001b[1;33m \u001b[0mctp\u001b[0m\u001b[1;33m.\u001b[0m\u001b[0mmake_rgbk_crosshatch\u001b[0m\u001b[1;33m(\u001b[0m\u001b[0mdebug\u001b[0m\u001b[1;33m=\u001b[0m\u001b[1;32mTrue\u001b[0m\u001b[1;33m)\u001b[0m\u001b[1;33m\u001b[0m\u001b[0m\n\u001b[0m",
      "\u001b[1;32mC:\\home\\sip\\signal_generation\\test_pattern\\check_test_pattern.py\u001b[0m in \u001b[0;36mmake_rgbk_crosshatch\u001b[1;34m(fg_array, bg_array, angle, debug)\u001b[0m\n\u001b[0;32m     53\u001b[0m \u001b[1;33m\u001b[0m\u001b[0m\n\u001b[0;32m     54\u001b[0m     \u001b[1;32mif\u001b[0m \u001b[0mdebug\u001b[0m\u001b[1;33m:\u001b[0m\u001b[1;33m\u001b[0m\u001b[0m\n\u001b[1;32m---> 55\u001b[1;33m         \u001b[0mtpg\u001b[0m\u001b[1;33m.\u001b[0m\u001b[0mpreview_image\u001b[0m\u001b[1;33m(\u001b[0m\u001b[0mimg\u001b[0m\u001b[1;33m[\u001b[0m\u001b[1;33m:\u001b[0m\u001b[1;33m,\u001b[0m \u001b[1;33m:\u001b[0m\u001b[1;33m,\u001b[0m \u001b[1;33m:\u001b[0m\u001b[1;33m:\u001b[0m\u001b[1;33m-\u001b[0m\u001b[1;36m1\u001b[0m\u001b[1;33m]\u001b[0m\u001b[1;33m)\u001b[0m\u001b[1;33m\u001b[0m\u001b[0m\n\u001b[0m\u001b[0;32m     56\u001b[0m \u001b[1;33m\u001b[0m\u001b[0m\n\u001b[0;32m     57\u001b[0m \u001b[1;33m\u001b[0m\u001b[0m\n",
      "\u001b[1;32mC:\\home\\sip\\lib\\test_pattern_generator.py\u001b[0m in \u001b[0;36mpreview_image\u001b[1;34m(img, order)\u001b[0m\n\u001b[0;32m    114\u001b[0m         \u001b[0mcv2\u001b[0m\u001b[1;33m.\u001b[0m\u001b[0mimshow\u001b[0m\u001b[1;33m(\u001b[0m\u001b[1;34m'preview'\u001b[0m\u001b[1;33m,\u001b[0m \u001b[0mimg\u001b[0m\u001b[1;33m)\u001b[0m\u001b[1;33m\u001b[0m\u001b[0m\n\u001b[0;32m    115\u001b[0m     \u001b[1;32melse\u001b[0m\u001b[1;33m:\u001b[0m\u001b[1;33m\u001b[0m\u001b[0m\n\u001b[1;32m--> 116\u001b[1;33m         \u001b[1;32mraise\u001b[0m \u001b[0mValueError\u001b[0m\u001b[1;33m(\u001b[0m\u001b[1;34m\"order parameter is invalid\"\u001b[0m\u001b[1;33m)\u001b[0m\u001b[1;33m\u001b[0m\u001b[0m\n\u001b[0m\u001b[0;32m    117\u001b[0m     \u001b[0mcv2\u001b[0m\u001b[1;33m.\u001b[0m\u001b[0mwaitKey\u001b[0m\u001b[1;33m(\u001b[0m\u001b[1;36m0\u001b[0m\u001b[1;33m)\u001b[0m\u001b[1;33m\u001b[0m\u001b[0m\n\u001b[0;32m    118\u001b[0m     \u001b[0mcv2\u001b[0m\u001b[1;33m.\u001b[0m\u001b[0mdestroyAllWindows\u001b[0m\u001b[1;33m(\u001b[0m\u001b[1;33m)\u001b[0m\u001b[1;33m\u001b[0m\u001b[0m\n",
      "\u001b[1;31mValueError\u001b[0m: order parameter is invalid"
     ]
    }
   ],
   "source": [
    "# 更に汎用性を低くした\n",
    "# -------------------------\n",
    "%matplotlib inline\n",
    "import cv2\n",
    "import check_test_pattern as ctp\n",
    "import test_pattern_generator as tpg\n",
    "import imp\n",
    "imp.reload(ctp)\n",
    "imp.reload(tpg)\n",
    "ctp.make_rgbk_crosshatch(debug=True)"
   ]
  },
  {
   "cell_type": "markdown",
   "metadata": {},
   "source": [
    "# リファクタリング\n",
    "\n",
    "前回作ったパターンは、横が 4096固定であり、3840 とか 1920とかで作れなかった。これを改良する。\n",
    "基本的には、固定幅だったのを ```equal_division()``` で置き換えるだけで良いはず…？"
   ]
  },
  {
   "cell_type": "code",
   "execution_count": 4,
   "metadata": {
    "collapsed": false
   },
   "outputs": [
    {
     "name": "stdout",
     "output_type": "stream",
     "text": [
      "[ 255.          218.57142857  182.14285714  145.71428571  109.28571429\n",
      "   72.85714286   36.42857143    0.        ]\n",
      "[ 256.  224.  192.  160.  128.   96.   64.   32.]\n"
     ]
    },
    {
     "data": {
      "text/plain": [
       "'puri'"
      ]
     },
     "execution_count": 4,
     "metadata": {},
     "output_type": "execute_result"
    }
   ],
   "source": [
    "import test_pattern_generator as tpg\n",
    "import imp\n",
    "imp.reload(tpg)\n",
    "\n",
    "# 普通の8分割。これだと小数点が出る。\n",
    "tpg.get_color_array(order='decrement', color=[0, 1, 0],\n",
    "                    min=0, max=255, div_num=8)\n",
    "\n",
    "# 8分割。整数値となるよう、endpoint=False にした。\n",
    "tpg.get_color_array(order='decrement', color=[0, 1, 0],\n",
    "                    min=0, max=256, div_num=8, endpoint=False)"
   ]
  }
 ],
 "metadata": {
  "kernelspec": {
   "display_name": "Python 3",
   "language": "python",
   "name": "python3"
  },
  "language_info": {
   "codemirror_mode": {
    "name": "ipython",
    "version": 3
   },
   "file_extension": ".py",
   "mimetype": "text/x-python",
   "name": "python",
   "nbconvert_exporter": "python",
   "pygments_lexer": "ipython3",
   "version": "3.5.1"
  }
 },
 "nbformat": 4,
 "nbformat_minor": 0
}
