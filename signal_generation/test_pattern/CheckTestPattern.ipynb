{
 "cells": [
  {
   "cell_type": "markdown",
   "metadata": {},
   "source": [
    "# クロスハッチパターンの作成\n",
    "まずは、非常に汎用性の高い内部関数を作る。\n",
    "次に、使用方法を制限した外部公開用の関数を作る。"
   ]
  },
  {
   "cell_type": "code",
   "execution_count": 2,
   "metadata": {
    "collapsed": false
   },
   "outputs": [],
   "source": [
    "# コアとなる関数の動作確認\n",
    "# -------------------------\n",
    "%matplotlib inline\n",
    "import cv2\n",
    "import check_test_pattern as ctp\n",
    "import test_pattern_generator as tpg\n",
    "import imp\n",
    "imp.reload(ctp)\n",
    "imp.reload(tpg)\n",
    "\n",
    "dummy = tpg.make_crosshatch(width=1920, height=1080,\n",
    "                    linewidth=1, linetype=cv2.LINE_AA,\n",
    "                    fragment_width=64, fragment_height=64,\n",
    "                    bg_color=tpg.const_black, fg_color=tpg.const_white,\n",
    "                    angle=30, debug=True)"
   ]
  },
  {
   "cell_type": "code",
   "execution_count": 10,
   "metadata": {
    "collapsed": false
   },
   "outputs": [],
   "source": [
    "# 汎用性の低いやつ\n",
    "# -------------------------\n",
    "%matplotlib inline\n",
    "import cv2\n",
    "import check_test_pattern as ctp\n",
    "import test_pattern_generator as tpg\n",
    "import imp\n",
    "imp.reload(ctp)\n",
    "imp.reload(tpg)\n",
    "\n",
    "dummy = tpg.make_multi_crosshatch(width=1920, height=1080,\n",
    "                          h_block=4, v_block=2,\n",
    "                          fragment_width=64, fragment_height=64,\n",
    "                          linewidth=1, linetype=cv2.LINE_AA,\n",
    "                          bg_color_array=tpg.const_gray_array_lower,\n",
    "                          fg_color_array=tpg.const_white_array,\n",
    "                          angle=30, debug=True)"
   ]
  },
  {
   "cell_type": "code",
   "execution_count": 12,
   "metadata": {
    "collapsed": true
   },
   "outputs": [],
   "source": [
    "# 更に汎用性を低くした\n",
    "# -------------------------\n",
    "%matplotlib inline\n",
    "import cv2\n",
    "import check_test_pattern as ctp\n",
    "import test_pattern_generator as tpg\n",
    "import imp\n",
    "imp.reload(ctp)\n",
    "imp.reload(tpg)\n",
    "ctp.make_rgbk_crosshatch(debug=True)"
   ]
  },
  {
   "cell_type": "code",
   "execution_count": null,
   "metadata": {
    "collapsed": true
   },
   "outputs": [],
   "source": [
    "# 更に汎用性を低くした\n",
    "# -------------------------\n",
    "%matplotlib inline"
   ]
  }
 ],
 "metadata": {
  "kernelspec": {
   "display_name": "Python 3",
   "language": "python",
   "name": "python3"
  },
  "language_info": {
   "codemirror_mode": {
    "name": "ipython",
    "version": 3
   },
   "file_extension": ".py",
   "mimetype": "text/x-python",
   "name": "python",
   "nbconvert_exporter": "python",
   "pygments_lexer": "ipython3",
   "version": "3.5.1"
  }
 },
 "nbformat": 4,
 "nbformat_minor": 0
}
