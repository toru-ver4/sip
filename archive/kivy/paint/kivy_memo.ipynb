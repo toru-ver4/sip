{
 "cells": [
  {
   "cell_type": "markdown",
   "metadata": {},
   "source": [
    "# はじめに\n",
    "\n",
    "この資料は paintアプリを作る上で気づいたことをメモる場所です。\n",
    "\n",
    "# 疑問点\n",
    "\n",
    "## with で self.canvas: を囲ってる件\n",
    "\n",
    "これどういうこと？ self.canvas って既に存在してるインスタンスだよね？\n",
    "with ってそういうの指定できるの？\n",
    "\n",
    "以下のサイトを読んでスッキリした。<br>\n",
    "[Pythonのwithステートメントのまとめ](http://shin.hateblo.jp/entry/2013/03/23/211750)\n",
    "\n",
    "with は\n",
    "\n",
    "```\n",
    "与えられたインスタンスの __enter__(), __exit()__ をいい感じにコールする\n",
    "```\n",
    "\n",
    "ってことだ。だから既に生成済みのインスタンスでも問題ない…はず。\n",
    "\n",
    "\n",
    "## Python で乱数を得るには？\n",
    "\n",
    "```\n",
    "r_color, g_color, b_color = numpy.random(3)\n",
    "```\n",
    "こんな感じ？\n",
    "\n"
   ]
  }
 ],
 "metadata": {
  "kernelspec": {
   "display_name": "Python 3",
   "language": "python",
   "name": "python3"
  },
  "language_info": {
   "codemirror_mode": {
    "name": "ipython",
    "version": 3
   },
   "file_extension": ".py",
   "mimetype": "text/x-python",
   "name": "python",
   "nbconvert_exporter": "python",
   "pygments_lexer": "ipython3",
   "version": "3.5.1"
  }
 },
 "nbformat": 4,
 "nbformat_minor": 0
}
