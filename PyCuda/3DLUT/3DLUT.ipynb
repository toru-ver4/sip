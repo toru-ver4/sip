{
 "cells": [
  {
   "cell_type": "markdown",
   "metadata": {},
   "source": [
    "# CUDA を使って画像に3DLUTをかける\n",
    "\n",
    "## 3DLUT の補間処理の元ネタ\n",
    "\n",
    "FUJIFILM社の「LOGとLUTの基礎講座」資料 P.38 のアルゴリズムを使用する。\n",
    "\n",
    "| |\n",
    "|:-----:|\n",
    "|![figure1](./figure/3dlut_interpolation.jpg)|\n",
    "\n",
    "\n",
    "リンク：[LOGとLUTの基礎講座](http://fujifilm.jp/business/broadcastcinema/solution/color_management/is-mini/promotion/pack/pdf/news/20150122_jppa.pdf)\n",
    "\n",
    "## Python向けに補間処理の数式を考える。\n",
    "\n",
    "![figure1](./figure/sekkei.jpg)\n",
    "\n",
    "8頂点で囲われた立方体を上図を参考に8領域に分ける。それぞれの領域の体積を$V_0 \\sim V_7$ と置くと、以下の式で算出できる。\n",
    "\n",
    "\\begin{align}\n",
    "V_0 & = R_0 \\cdot G_0 \\cdot B_0 \\\\\n",
    "V_1 & = R_0 \\cdot G_0 \\cdot B_1 \\\\\n",
    "V_2 & = R_0 \\cdot G_1 \\cdot B_0 \\\\\n",
    "V_3 & = R_0 \\cdot G_1 \\cdot B_1 \\\\\n",
    "V_4 & = R_1 \\cdot G_0 \\cdot B_0 \\\\\n",
    "V_5 & = R_1 \\cdot G_0 \\cdot B_1 \\\\\n",
    "V_6 & = R_1 \\cdot G_1 \\cdot B_0 \\\\\n",
    "V_7 & = R_1 \\cdot G_1 \\cdot B_1 \\\\\n",
    "\\end{align}\n",
    "\n",
    "ここで $V'_i = 1 - V_i$ と置くと、3DLUTの出力は以下の式で求められる。\n",
    "\n",
    "$$\n",
    "\\begin{align}\n",
    "R_{out} & = V'_0 \\cdot L_0[R] + V'_1 \\cdot L_1[R] + V'_2 \\cdot L_2[R] + V'_3 \\cdot L_3[R] \\\\\n",
    "& + V'_4 \\cdot L_4[R] + V'_5 \\cdot L_5[R] + V'_6 \\cdot L_6[R] + V'_7 \\cdot L_7[R] \\\\\n",
    "G_{out} & = V'_0 \\cdot L_0[G] + V'_1 \\cdot L_1[G] + V'_2 \\cdot L_2[G] + V'_3 \\cdot L_3[G] \\\\ \n",
    "& + V'_4 \\cdot L_4[G] + V'_5 \\cdot L_5[G] + V'_6 \\cdot L_6[G] + V'_7 \\cdot L_7[G] \\\\\n",
    "B_{out} & = V'_0 \\cdot L_0[B] + V'_1 \\cdot L_1[B] + V'_2 \\cdot L_2[B] + V'_3 \\cdot L_3[B] \\\\\n",
    "& + V'_4 \\cdot L_4[B] + V'_5 \\cdot L_5[B] + V'_6 \\cdot L_6[B] + V'_7 \\cdot L_7[B]\n",
    "\\end{align}\n",
    "$$"
   ]
  },
  {
   "cell_type": "markdown",
   "metadata": {},
   "source": [
    "## Grid数を考慮した数式を立ててみよう\n",
    "\n",
    "グリッド数を$N$とする。$N$ は整数 $m$ によって以下の式で求められる。<br>\n",
    "ひとまずは、m=4, 5, 6 あたりをターゲットとする。\n",
    "\n",
    "$$\n",
    "N = 2^m + 1\n",
    "$$\n",
    "\n",
    "入力画像を $D(w, h, c)$ とする。$w, h$ は空間方向の座標を $c$ は 色方向の座標を意味する。<br>\n",
    "入力画像は$N$に合わせて正規化する。正規化後の入力画像を $D'$ とする。\n",
    "\n",
    "$$\n",
    "D' = \\frac{D}{{\\rm max}(D)} \\cdot N\n",
    "$$\n",
    "\n",
    "さて、この時 $D'$ が参照するグリッドのインデックス $i, j, k$ は以下となる。<br>\n",
    "※ $D=N$ つまり最大値の時に、本当に端っこのグリッドに当たるか不安。要確認。\n",
    "\n",
    "$$\n",
    "i = \\lfloor D' \\rfloor\n",
    "$$"
   ]
  },
  {
   "cell_type": "code",
   "execution_count": 17,
   "metadata": {
    "collapsed": false
   },
   "outputs": [],
   "source": [
    "# 上のコードを関数化\n",
    "# ---------------------------------\n",
    "import sys\n",
    "import imp\n",
    "sys.path.append('./code')\n",
    "import pycuda_3dlut as p3\n",
    "imp.reload(p3)\n",
    "p3.mono_conv_matrix()"
   ]
  }
 ],
 "metadata": {
  "kernelspec": {
   "display_name": "Python 3",
   "language": "python",
   "name": "python3"
  },
  "language_info": {
   "codemirror_mode": {
    "name": "ipython",
    "version": 3
   },
   "file_extension": ".py",
   "mimetype": "text/x-python",
   "name": "python",
   "nbconvert_exporter": "python",
   "pygments_lexer": "ipython3",
   "version": "3.5.1"
  }
 },
 "nbformat": 4,
 "nbformat_minor": 0
}
