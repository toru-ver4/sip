{
 "cells": [
  {
   "cell_type": "markdown",
   "metadata": {},
   "source": [
    "# CUDA を使って画像にMatrixをかける\n",
    "\n",
    "## 条件\n",
    "\n",
    "* 解像度：1920x1080\n",
    "\n",
    "## Block数、Grid数をどうするか\n",
    "\n",
    "1920x1080 = 2M pixel ある。1次元のBlockを1080作って、その中で1次元のThreadを1920 動かすのってありなのかしら？ <br>\n",
    "CUDAに関しては暗中模索状態だし、ひとまずそれでやってみますか。\n",
    "\n",
    "### Block数、Grid数は上限がある\n",
    "1920 Thread は動きませんでした。上限超えてました。<br>\n",
    "CUDA プロフェッショナルプログラミング P.62～P.64 を参考に2次元の Grid & Thread を作ります。"
   ]
  },
  {
   "cell_type": "code",
   "execution_count": 65,
   "metadata": {
    "collapsed": false
   },
   "outputs": [],
   "source": [
    "import pycuda.driver as cuda\n",
    "import pycuda.autoinit\n",
    "from pycuda.compiler import SourceModule\n",
    "import numpy as np\n",
    "import cv2\n",
    "\n",
    "# 加工元の画像データを準備\n",
    "# -----------------------------------\n",
    "filename = './figure/src_img.png'\n",
    "img = cv2.imread(filename, cv2.IMREAD_ANYDEPTH | cv2.IMREAD_COLOR)\n",
    "try:\n",
    "    img_max_value = np.iinfo(img.dtype).max\n",
    "except:\n",
    "    img_max_value = 1.0\n",
    "img = np.float32(img/img_max_value)\n",
    "\n",
    "# block数, thread数 の計算\n",
    "# ------------------------------------\n",
    "nx = img.shape[1]\n",
    "ny = img.shape[0]\n",
    "dimx = 32\n",
    "dimy = 32\n",
    "block = (dimx, dimy, 1)\n",
    "grid = ((nx + block[0] - 1) // block[0],\n",
    "        (ny + block[1] - 1) // block[1])\n",
    "\n",
    "# GPUに画像データを転送\n",
    "# ------------------------------------\n",
    "img_gpu = cuda.mem_alloc(img.nbytes)\n",
    "cuda.memcpy_htod(img_gpu, img[:, :, ::-1].tobytes())\n",
    "\n",
    "# カーネルの作成\n",
    "# ------------------------------------\n",
    "mod = SourceModule(\"\"\"\n",
    "    __global__ void matrix_test(float *img, int nx, int ny)\n",
    "    {\n",
    "        float r, g, b;\n",
    "        unsigned int ix = threadIdx.x + blockIdx.x * blockDim.x;\n",
    "        unsigned int iy = threadIdx.y + blockIdx.y * blockDim.y;\n",
    "        unsigned int idx = iy * nx + ix;\n",
    "        if (ix < nx && iy < ny){\n",
    "            int r_idx = idx * 3;\n",
    "            int g_idx = idx * 3 + 1;\n",
    "            int b_idx = idx * 3 + 2;\n",
    "            r = img[r_idx];\n",
    "            g = img[g_idx];\n",
    "            b = img[b_idx];\n",
    "            img[r_idx] = r * 0.2126 + g * 0.7152 + b * 0.0722;\n",
    "            img[g_idx] = r * 0.2126 + g * 0.7152 + b * 0.0722;\n",
    "            img[b_idx] = r * 0.2126 + g * 0.7152 + b * 0.0722;\n",
    "        }\n",
    "    }\n",
    "    \"\"\")\n",
    "\n",
    "# カーネルの実行\n",
    "# ------------------------------------\n",
    "func = mod.get_function(\"matrix_test\")\n",
    "func(img_gpu, np.uint32(nx), np.uint32(ny), grid=grid, block=block)\n",
    "\n",
    "# 結果の取得\n",
    "# ------------------------------------\n",
    "img_result = np.empty_like(img)\n",
    "cuda.memcpy_dtoh(img_result, img_gpu)\n",
    "img_result = img_result[:, :, ::-1]\n",
    "\n",
    "# 結果の表示\n",
    "# ------------------------------------\n",
    "cv2.imshow('preview', img_result)\n",
    "cv2.waitKey(0)\n",
    "cv2.destroyAllWindows()"
   ]
  },
  {
   "cell_type": "code",
   "execution_count": 1,
   "metadata": {
    "collapsed": false
   },
   "outputs": [],
   "source": [
    "# 上のコードを関数化\n",
    "# ---------------------------------\n",
    "import sys\n",
    "import imp\n",
    "sys.path.append('./code')\n",
    "import pycuda_matrix as pm\n",
    "imp.reload(pm)\n",
    "pm.mono_conv_matrix()"
   ]
  }
 ],
 "metadata": {
  "kernelspec": {
   "display_name": "Python 3",
   "language": "python",
   "name": "python3"
  },
  "language_info": {
   "codemirror_mode": {
    "name": "ipython",
    "version": 3
   },
   "file_extension": ".py",
   "mimetype": "text/x-python",
   "name": "python",
   "nbconvert_exporter": "python",
   "pygments_lexer": "ipython3",
   "version": "3.5.1"
  }
 },
 "nbformat": 4,
 "nbformat_minor": 0
}
