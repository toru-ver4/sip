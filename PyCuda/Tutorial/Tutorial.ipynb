{
 "cells": [
  {
   "cell_type": "markdown",
   "metadata": {},
   "source": [
    "# はじめに\n",
    "PyCuda の要素検討をまとめる。"
   ]
  },
  {
   "cell_type": "code",
   "execution_count": 3,
   "metadata": {
    "collapsed": false
   },
   "outputs": [
    {
     "name": "stdout",
     "output_type": "stream",
     "text": [
      "[[-2.36192513 -0.20466366  1.39145923 -1.03003728]\n",
      " [-0.40832511  0.63969398  0.77032864  1.08193791]\n",
      " [ 3.28795409  1.68286681  0.03701282 -2.11837411]\n",
      " [-2.70706105  3.04885149 -0.68054092 -2.87829328]]\n",
      "[[-1.18096256 -0.10233183  0.69572961 -0.51501864]\n",
      " [-0.20416255  0.31984699  0.38516432  0.54096895]\n",
      " [ 1.64397705  0.84143341  0.01850641 -1.05918705]\n",
      " [-1.35353053  1.52442575 -0.34027046 -1.43914664]]\n"
     ]
    }
   ],
   "source": [
    "import sys\n",
    "import imp\n",
    "sys.path.append('./code')\n",
    "import pycuda_tutorial as pt\n",
    "imp.reload(pt)\n",
    "pt.transferring_data()\n"
   ]
  }
 ],
 "metadata": {
  "kernelspec": {
   "display_name": "Python 3",
   "language": "python",
   "name": "python3"
  },
  "language_info": {
   "codemirror_mode": {
    "name": "ipython",
    "version": 3
   },
   "file_extension": ".py",
   "mimetype": "text/x-python",
   "name": "python",
   "nbconvert_exporter": "python",
   "pygments_lexer": "ipython3",
   "version": "3.5.1"
  }
 },
 "nbformat": 4,
 "nbformat_minor": 0
}
