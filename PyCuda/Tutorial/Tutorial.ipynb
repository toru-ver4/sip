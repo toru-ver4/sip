{
 "cells": [
  {
   "cell_type": "markdown",
   "metadata": {},
   "source": [
    "# はじめに\n",
    "PyCuda の要素検討をまとめる。"
   ]
  },
  {
   "cell_type": "code",
   "execution_count": 2,
   "metadata": {
    "collapsed": false
   },
   "outputs": [
    {
     "name": "stdout",
     "output_type": "stream",
     "text": [
      "[[-0.33832744  0.61652392 -4.4703598   0.5174253 ]\n",
      " [ 0.59584308 -1.60426939  0.65220022  1.01885724]\n",
      " [-2.23548937  3.01142144 -1.40771317 -2.97314572]\n",
      " [-0.36635202 -0.19969234 -3.39348459 -1.60865963]]\n",
      "[[-0.16916372  0.30826196 -2.2351799   0.25871265]\n",
      " [ 0.29792154 -0.80213469  0.32610011  0.50942862]\n",
      " [-1.11774468  1.50571072 -0.70385659 -1.48657286]\n",
      " [-0.18317601 -0.09984617 -1.6967423  -0.80432981]]\n"
     ]
    },
    {
     "name": "stderr",
     "output_type": "stream",
     "text": [
      "./code\\pycuda_tutorial.py:19: UserWarning: The CUDA compiler succeeded, but said the following:\n",
      "kernel.cu\r\n",
      "C:\\Program Files\\NVIDIA GPU Computing Toolkit\\CUDA\\v8.0\\bin/../include\\cuda_runtime.h: warning C4819: The file contains a character that cannot be represented in the current code page (932). Save the file in Unicode format to prevent data loss\r\n",
      "c:\\program files\\nvidia gpu computing toolkit\\cuda\\v8.0\\include\\cuda_runtime_api.h(1946): warning C4819: The file contains a character that cannot be represented in the current code page (932). Save the file in Unicode format to prevent data loss\r\n",
      "c:\\program files\\nvidia gpu computing toolkit\\cuda\\v8.0\\include\\cuda_runtime_api.h(1946): warning C4819: The file contains a character that cannot be represented in the current code page (932). Save the file in Unicode format to prevent data loss\r\n",
      "c:\\program files\\nvidia gpu computing toolkit\\cuda\\v8.0\\include\\math_functions.h: warning C4819: The file contains a character that cannot be represented in the current code page (932). Save the file in Unicode format to prevent data loss\r\n",
      "c:\\program files\\nvidia gpu computing toolkit\\cuda\\v8.0\\include\\math_functions.h(849): warning C4819: The file contains a character that cannot be represented in the current code page (932). Save the file in Unicode format to prevent data loss\r\n",
      "c:\\program files\\nvidia gpu computing toolkit\\cuda\\v8.0\\include\\math_functions.h(1787): warning C4819: The file contains a character that cannot be represented in the current code page (932). Save the file in Unicode format to prevent data loss\r\n",
      "c:\\program files\\nvidia gpu computing toolkit\\cuda\\v8.0\\include\\math_functions.h(2637): warning C4819: The file contains a character that cannot be represented in the current code page (932). Save the file in Unicode format to prevent data loss\r\n",
      "c:\\program files\\nvidia gpu computing toolkit\\cuda\\v8.0\\include\\math_functions.h(3492): warning C4819: The file contains a character that cannot be represented in the current code page (932). Save the file in Unicode format to prevent data loss\r\n",
      "c:\\program files\\nvidia gpu computing toolkit\\cuda\\v8.0\\include\\math_functions.h(4431): warning C4819: The file contains a character that cannot be represented in the current code page (932). Save the file in Unicode format to prevent data loss\r\n",
      "c:\\program files\\nvidia gpu computing toolkit\\cuda\\v8.0\\include\\math_functions.h(5345): warning C4819: The file contains a character that cannot be represented in the current code page (932). Save the file in Unicode format to prevent data loss\r\n",
      "c:\\program files\\nvidia gpu computing toolkit\\cuda\\v8.0\\include\\math_functions.h(6252): warning C4819: The file contains a character that cannot be represented in the current code page (932). Save the file in Unicode format to prevent data loss\r\n",
      "c:\\program files\\nvidia gpu computing toolkit\\cuda\\v8.0\\include\\math_functions.h(7142): warning C4819: The file contains a character that cannot be represented in the current code page (932). Save the file in Unicode format to prevent data loss\r\n",
      "c:\\program files\\nvidia gpu computing toolkit\\cuda\\v8.0\\include\\math_functions.h(7956): warning C4819: The file contains a character that cannot be represented in the current code page (932). Save the file in Unicode format to prevent data loss\r\n",
      "c:\\program files\\nvidia gpu computing toolkit\\cuda\\v8.0\\include\\device_functions.h: warning C4819: The file contains a character that cannot be represented in the current code page (932). Save the file in Unicode format to prevent data loss\r\n",
      "c:\\program files\\nvidia gpu computing toolkit\\cuda\\v8.0\\include\\device_functions.h(774): warning C4819: The file contains a character that cannot be represented in the current code page (932). Save the file in Unicode format to prevent data loss\r\n",
      "c:\\program files\\nvidia gpu computing toolkit\\cuda\\v8.0\\include\\device_functions.h(1618): warning C4819: The file contains a character that cannot be represented in the current code page (932). Save the file in Unicode format to prevent data loss\r\n",
      "c:\\program files\\nvidia gpu computing toolkit\\cuda\\v8.0\\include\\device_double_functions.h: warning C4819: The file contains a character that cannot be represented in the current code page (932). Save the file in Unicode format to prevent data loss\r\n",
      "c:\\program files\\nvidia gpu computing toolkit\\cuda\\v8.0\\include\\sm_20_intrinsics.h: warning C4819: The file contains a character that cannot be represented in the current code page (932). Save the file in Unicode format to prevent data loss\r\n",
      "c:\\program files\\nvidia gpu computing toolkit\\cuda\\v8.0\\include\\sm_20_intrinsics.h(943): warning C4819: The file contains a character that cannot be represented in the current code page (932). Save the file in Unicode format to prevent data loss\r\n",
      "C:\\Program Files\\NVIDIA GPU Computing Toolkit\\CUDA\\v8.0\\bin/../include\\cuda_runtime.h: warning C4819: The file contains a character that cannot be represented in the current code page (932). Save the file in Unicode format to prevent data loss\r\n",
      "c:\\program files\\nvidia gpu computing toolkit\\cuda\\v8.0\\include\\cuda_runtime_api.h(1946): warning C4819: The file contains a character that cannot be represented in the current code page (932). Save the file in Unicode format to prevent data loss\r\n",
      "c:\\program files\\nvidia gpu computing toolkit\\cuda\\v8.0\\include\\cuda_runtime_api.h(1946): warning C4819: The file contains a character that cannot be represented in the current code page (932). Save the file in Unicode format to prevent data loss\r\n",
      "c:\\program files\\nvidia gpu computing toolkit\\cuda\\v8.0\\include\\math_functions.h: warning C4819: The file contains a character that cannot be represented in the current code page (932). Save the file in Unicode format to prevent data loss\r\n",
      "c:\\program files\\nvidia gpu computing toolkit\\cuda\\v8.0\\include\\math_functions.h(849): warning C4819: The file contains a character that cannot be represented in the current code page (932). Save the file in Unicode format to prevent data loss\r\n",
      "c:\\program files\\nvidia gpu computing toolkit\\cuda\\v8.0\\include\\math_functions.h(1787): warning C4819: The file contains a character that cannot be represented in the current code page (932). Save the file in Unicode format to prevent data loss\r\n",
      "c:\\program files\\nvidia gpu computing toolkit\\cuda\\v8.0\\include\\math_functions.h(2637): warning C4819: The file contains a character that cannot be represented in the current code page (932). Save the file in Unicode format to prevent data loss\r\n",
      "c:\\program files\\nvidia gpu computing toolkit\\cuda\\v8.0\\include\\math_functions.h(3492): warning C4819: The file contains a character that cannot be represented in the current code page (932). Save the file in Unicode format to prevent data loss\r\n",
      "c:\\program files\\nvidia gpu computing toolkit\\cuda\\v8.0\\include\\math_functions.h(4431): warning C4819: The file contains a character that cannot be represented in the current code page (932). Save the file in Unicode format to prevent data loss\r\n",
      "c:\\program files\\nvidia gpu computing toolkit\\cuda\\v8.0\\include\\math_functions.h(5345): warning C4819: The file contains a character that cannot be represented in the current code page (932). Save the file in Unicode format to prevent data loss\r\n",
      "c:\\program files\\nvidia gpu computing toolkit\\cuda\\v8.0\\include\\math_functions.h(6252): warning C4819: The file contains a character that cannot be represented in the current code page (932). Save the file in Unicode format to prevent data loss\r\n",
      "c:\\program files\\nvidia gpu computing toolkit\\cuda\\v8.0\\include\\math_functions.h(7142): warning C4819: The file contains a character that cannot be represented in the current code page (932). Save the file in Unicode format to prevent data loss\r\n",
      "c:\\program files\\nvidia gpu computing toolkit\\cuda\\v8.0\\include\\math_functions.h(7956): warning C4819: The file contains a character that cannot be represented in the current code page (932). Save the file in Unicode format to prevent data loss\r\n",
      "c:\\program files\\nvidia gpu computing toolkit\\cuda\\v8.0\\include\\device_functions.h: warning C4819: The file contains a character that cannot be represented in the current code page (932). Save the file in Unicode format to prevent data loss\r\n",
      "c:\\program files\\nvidia gpu computing toolkit\\cuda\\v8.0\\include\\device_functions.h(774): warning C4819: The file contains a character that cannot be represented in the current code page (932). Save the file in Unicode format to prevent data loss\r\n",
      "c:\\program files\\nvidia gpu computing toolkit\\cuda\\v8.0\\include\\device_functions.h(1618): warning C4819: The file contains a character that cannot be represented in the current code page (932). Save the file in Unicode format to prevent data loss\r\n",
      "c:\\program files\\nvidia gpu computing toolkit\\cuda\\v8.0\\include\\device_double_functions.h: warning C4819: The file contains a character that cannot be represented in the current code page (932). Save the file in Unicode format to prevent data loss\r\n",
      "c:\\program files\\nvidia gpu computing toolkit\\cuda\\v8.0\\include\\sm_20_intrinsics.h: warning C4819: The file contains a character that cannot be represented in the current code page (932). Save the file in Unicode format to prevent data loss\r\n",
      "c:\\program files\\nvidia gpu computing toolkit\\cuda\\v8.0\\include\\sm_20_intrinsics.h(943): warning C4819: The file contains a character that cannot be represented in the current code page (932). Save the file in Unicode format to prevent data loss\r\n",
      "c:\\program files\\nvidia gpu computing toolkit\\cuda\\v8.0\\include\\math_functions.h: warning C4819: The file contains a character that cannot be represented in the current code page (932). Save the file in Unicode format to prevent data loss\r\n",
      "c:\\program files\\nvidia gpu computing toolkit\\cuda\\v8.0\\include\\math_functions.h(849): warning C4819: The file contains a character that cannot be represented in the current code page (932). Save the file in Unicode format to prevent data loss\r\n",
      "c:\\program files\\nvidia gpu computing toolkit\\cuda\\v8.0\\include\\math_functions.h(1787): warning C4819: The file contains a character that cannot be represented in the current code page (932). Save the file in Unicode format to prevent data loss\r\n",
      "c:\\program files\\nvidia gpu computing toolkit\\cuda\\v8.0\\include\\math_functions.h(2637): warning C4819: The file contains a character that cannot be represented in the current code page (932). Save the file in Unicode format to prevent data loss\r\n",
      "c:\\program files\\nvidia gpu computing toolkit\\cuda\\v8.0\\include\\math_functions.h(3492): warning C4819: The file contains a character that cannot be represented in the current code page (932). Save the file in Unicode format to prevent data loss\r\n",
      "c:\\program files\\nvidia gpu computing toolkit\\cuda\\v8.0\\include\\math_functions.h(4431): warning C4819: The file contains a character that cannot be represented in the current code page (932). Save the file in Unicode format to prevent data loss\r\n",
      "c:\\program files\\nvidia gpu computing toolkit\\cuda\\v8.0\\include\\math_functions.h(5345): warning C4819: The file contains a character that cannot be represented in the current code page (932). Save the file in Unicode format to prevent data loss\r\n",
      "c:\\program files\\nvidia gpu computing toolkit\\cuda\\v8.0\\include\\math_functions.h(6252): warning C4819: The file contains a character that cannot be represented in the current code page (932). Save the file in Unicode format to prevent data loss\r\n",
      "c:\\program files\\nvidia gpu computing toolkit\\cuda\\v8.0\\include\\math_functions.h(7142): warning C4819: The file contains a character that cannot be represented in the current code page (932). Save the file in Unicode format to prevent data loss\r\n",
      "c:\\program files\\nvidia gpu computing toolkit\\cuda\\v8.0\\include\\math_functions.h(7956): warning C4819: The file contains a character that cannot be represented in the current code page (932). Save the file in Unicode format to prevent data loss\r\n",
      "c:\\program files\\nvidia gpu computing toolkit\\cuda\\v8.0\\include\\math_functions.h: warning C4819: The file contains a character that cannot be represented in the current code page (932). Save the file in Unicode format to prevent data loss\r\n",
      "c:\\program files\\nvidia gpu computing toolkit\\cuda\\v8.0\\include\\math_functions.h(849): warning C4819: The file contains a character that cannot be represented in the current code page (932). Save the file in Unicode format to prevent data loss\r\n",
      "c:\\program files\\nvidia gpu computing toolkit\\cuda\\v8.0\\include\\math_functions.h(1787): warning C4819: The file contains a character that cannot be represented in the current code page (932). Save the file in Unicode format to prevent data loss\r\n",
      "c:\\program files\\nvidia gpu computing toolkit\\cuda\\v8.0\\include\\math_functions.h(2637): warning C4819: The file contains a character that cannot be represented in the current code page (932). Save the file in Unicode format to prevent data loss\r\n",
      "c:\\program files\\nvidia gpu computing toolkit\\cuda\\v8.0\\include\\math_functions.h(3492): warning C4819: The file contains a character that cannot be represented in the current code page (932). Save the file in Unicode format to prevent data loss\r\n",
      "c:\\program files\\nvidia gpu computing toolkit\\cuda\\v8.0\\include\\math_functions.h(4431): warning C4819: The file contains a character that cannot be represented in the current code page (932). Save the file in Unicode format to prevent data loss\r\n",
      "c:\\program files\\nvidia gpu computing toolkit\\cuda\\v8.0\\include\\math_functions.h(5345): warning C4819: The file contains a character that cannot be represented in the current code page (932). Save the file in Unicode format to prevent data loss\r\n",
      "c:\\program files\\nvidia gpu computing toolkit\\cuda\\v8.0\\include\\math_functions.h(6252): warning C4819: The file contains a character that cannot be represented in the current code page (932). Save the file in Unicode format to prevent data loss\r\n",
      "c:\\program files\\nvidia gpu computing toolkit\\cuda\\v8.0\\include\\math_functions.h(7142): warning C4819: The file contains a character that cannot be represented in the current code page (932). Save the file in Unicode format to prevent data loss\r\n",
      "c:\\program files\\nvidia gpu computing toolkit\\cuda\\v8.0\\include\\math_functions.h(7956): warning C4819: The file contains a character that cannot be represented in the current code page (932). Save the file in Unicode format to prevent data loss\r\n",
      "c:\\program files\\nvidia gpu computing toolkit\\cuda\\v8.0\\include\\device_functions_decls.h: warning C4819: The file contains a character that cannot be represented in the current code page (932). Save the file in Unicode format to prevent data loss\r\n",
      "c:\\program files\\nvidia gpu computing toolkit\\cuda\\v8.0\\include\\device_functions_decls.h(910): warning C4819: The file contains a character that cannot be represented in the current code page (932). Save the file in Unicode format to prevent data loss\r\n",
      "c:\\program files\\nvidia gpu computing toolkit\\cuda\\v8.0\\include\\device_functions_decls.h(1903): warning C4819: The file contains a character that cannot be represented in the current code page (932). Save the file in Unicode format to prevent data loss\r\n",
      "c:\\program files\\nvidia gpu computing toolkit\\cuda\\v8.0\\include\\device_functions_decls.h(2843): warning C4819: The file contains a character that cannot be represented in the current code page (932). Save the file in Unicode format to prevent data loss\r\n",
      "c:\\program files\\nvidia gpu computing toolkit\\cuda\\v8.0\\include\\device_functions_decls.h(3779): warning C4819: The file contains a character that cannot be represented in the current code page (932). Save the file in Unicode format to prevent data loss\r\n",
      "c:\\program files\\nvidia gpu computing toolkit\\cuda\\v8.0\\include\\device_functions_decls.h(4721): warning C4819: The file contains a character that cannot be represented in the current code page (932). Save the file in Unicode format to prevent data loss\r\n",
      "c:\\program files\\nvidia gpu computing toolkit\\cuda\\v8.0\\include\\device_functions_decls.h(5723): warning C4819: The file contains a character that cannot be represented in the current code page (932). Save the file in Unicode format to prevent data loss\r\n",
      "c:\\program files\\nvidia gpu computing toolkit\\cuda\\v8.0\\include\\device_functions_decls.h(6682): warning C4819: The file contains a character that cannot be represented in the current code page (932). Save the file in Unicode format to prevent data loss\r\n",
      "c:\\program files\\nvidia gpu computing toolkit\\cuda\\v8.0\\include\\device_functions_decls.h(7610): warning C4819: The file contains a character that cannot be represented in the current code page (932). Save the file in Unicode format to prevent data loss\r\n",
      "c:\\program files\\nvidia gpu computing toolkit\\cuda\\v8.0\\include\\device_functions_decls.h(8543): warning C4819: The file contains a character that cannot be represented in the current code page (932). Save the file in Unicode format to prevent data loss\r\n",
      "c:\\program files\\nvidia gpu computing toolkit\\cuda\\v8.0\\include\\device_functions_decls.h(9413): warning C4819: The file contains a character that cannot be represented in the current code page (932). Save the file in Unicode format to prevent data loss\r\n",
      "c:\\program files\\nvidia gpu computing toolkit\\cuda\\v8.0\\include\\device_functions_decls.h(10391): warning C4819: The file contains a character that cannot be represented in the current code page (932). Save the file in Unicode format to prevent data loss\r\n",
      "c:\\program files\\nvidia gpu computing toolkit\\cuda\\v8.0\\include\\device_functions_decls.h(11435): warning C4819: The file contains a character that cannot be represented in the current code page (932). Save the file in Unicode format to prevent data loss\r\n",
      "c:\\program files\\nvidia gpu computing toolkit\\cuda\\v8.0\\include\\device_functions.h: warning C4819: The file contains a character that cannot be represented in the current code page (932). Save the file in Unicode format to prevent data loss\r\n",
      "c:\\program files\\nvidia gpu computing toolkit\\cuda\\v8.0\\include\\device_functions.h(774): warning C4819: The file contains a character that cannot be represented in the current code page (932). Save the file in Unicode format to prevent data loss\r\n",
      "c:\\program files\\nvidia gpu computing toolkit\\cuda\\v8.0\\include\\device_functions.h(1618): warning C4819: The file contains a character that cannot be represented in the current code page (932). Save the file in Unicode format to prevent data loss\r\n",
      "c:\\program files\\nvidia gpu computing toolkit\\cuda\\v8.0\\include\\device_double_functions.h: warning C4819: The file contains a character that cannot be represented in the current code page (932). Save the file in Unicode format to prevent data loss\r\n",
      "c:\\program files\\nvidia gpu computing toolkit\\cuda\\v8.0\\include\\sm_20_intrinsics.h: warning C4819: The file contains a character that cannot be represented in the current code page (932). Save the file in Unicode format to prevent data loss\r\n",
      "c:\\program files\\nvidia gpu computing toolkit\\cuda\\v8.0\\include\\sm_20_intrinsics.h(943): warning C4819: The file contains a character that cannot be represented in the current code page (932). Save the file in Unicode format to prevent data loss\r\n",
      "c:\\program files\\nvidia gpu computing toolkit\\cuda\\v8.0\\include\\device_functions_decls.h: warning C4819: The file contains a character that cannot be represented in the current code page (932). Save the file in Unicode format to prevent data loss\r\n",
      "c:\\program files\\nvidia gpu computing toolkit\\cuda\\v8.0\\include\\device_functions_decls.h(910): warning C4819: The file contains a character that cannot be represented in the current code page (932). Save the file in Unicode format to prevent data loss\r\n",
      "c:\\program files\\nvidia gpu computing toolkit\\cuda\\v8.0\\include\\device_functions_decls.h(1903): warning C4819: The file contains a character that cannot be represented in the current code page (932). Save the file in Unicode format to prevent data loss\r\n",
      "c:\\program files\\nvidia gpu computing toolkit\\cuda\\v8.0\\include\\device_functions_decls.h(2843): warning C4819: The file contains a character that cannot be represented in the current code page (932). Save the file in Unicode format to prevent data loss\r\n",
      "c:\\program files\\nvidia gpu computing toolkit\\cuda\\v8.0\\include\\device_functions_decls.h(3779): warning C4819: The file contains a character that cannot be represented in the current code page (932). Save the file in Unicode format to prevent data loss\r\n",
      "c:\\program files\\nvidia gpu computing toolkit\\cuda\\v8.0\\include\\device_functions_decls.h(4721): warning C4819: The file contains a character that cannot be represented in the current code page (932). Save the file in Unicode format to prevent data loss\r\n",
      "c:\\program files\\nvidia gpu computing toolkit\\cuda\\v8.0\\include\\device_functions_decls.h(5723): warning C4819: The file contains a character that cannot be represented in the current code page (932). Save the file in Unicode format to prevent data loss\r\n",
      "c:\\program files\\nvidia gpu computing toolkit\\cuda\\v8.0\\include\\device_functions_decls.h(6682): warning C4819: The file contains a character that cannot be represented in the current code page (932). Save the file in Unicode format to prevent data loss\r\n",
      "c:\\program files\\nvidia gpu computing toolkit\\cuda\\v8.0\\include\\device_functions_decls.h(7610): warning C4819: The file contains a character that cannot be represented in the current code page (932). Save the file in Unicode format to prevent data loss\r\n",
      "c:\\program files\\nvidia gpu computing toolkit\\cuda\\v8.0\\include\\device_functions_decls.h(8543): warning C4819: The file contains a character that cannot be represented in the current code page (932). Save the file in Unicode format to prevent data loss\r\n",
      "c:\\program files\\nvidia gpu computing toolkit\\cuda\\v8.0\\include\\device_functions_decls.h(9413): warning C4819: The file contains a character that cannot be represented in the current code page (932). Save the file in Unicode format to prevent data loss\r\n",
      "c:\\program files\\nvidia gpu computing toolkit\\cuda\\v8.0\\include\\device_functions_decls.h(10391): warning C4819: The file contains a character that cannot be represented in the current code page (932). Save the file in Unicode format to prevent data loss\r\n",
      "c:\\program files\\nvidia gpu computing toolkit\\cuda\\v8.0\\include\\device_functions_decls.h(11435): warning C4819: The file contains a character that cannot be represented in the current code page (932). Save the file in Unicode format to prevent data loss\r\n",
      "c:\\program files\\nvidia gpu computing toolkit\\cuda\\v8.0\\include\\device_functions.h: warning C4819: The file contains a character that cannot be represented in the current code page (932). Save the file in Unicode format to prevent data loss\r\n",
      "c:\\program files\\nvidia gpu computing toolkit\\cuda\\v8.0\\include\\device_functions.h(774): warning C4819: The file contains a character that cannot be represented in the current code page (932). Save the file in Unicode format to prevent data loss\r\n",
      "c:\\program files\\nvidia gpu computing toolkit\\cuda\\v8.0\\include\\device_functions.h(1618): warning C4819: The file contains a character that cannot be represented in the current code page (932). Save the file in Unicode format to prevent data loss\r\n",
      "\n",
      "  \"\"\")\n"
     ]
    }
   ],
   "source": [
    "import sys\n",
    "import imp\n",
    "sys.path.append('./code')\n",
    "import pycuda_tutorial as pt\n",
    "imp.reload(pt)\n",
    "pt.transferring_data()\n"
   ]
  }
 ],
 "metadata": {
  "kernelspec": {
   "display_name": "Python 3",
   "language": "python",
   "name": "python3"
  },
  "language_info": {
   "codemirror_mode": {
    "name": "ipython",
    "version": 3
   },
   "file_extension": ".py",
   "mimetype": "text/x-python",
   "name": "python",
   "nbconvert_exporter": "python",
   "pygments_lexer": "ipython3",
   "version": "3.5.1"
  }
 },
 "nbformat": 4,
 "nbformat_minor": 0
}
