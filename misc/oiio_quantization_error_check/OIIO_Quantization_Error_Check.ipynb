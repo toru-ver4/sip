{
 "cells": [
  {
   "cell_type": "markdown",
   "metadata": {},
   "source": [
    "# OIIO の量子化誤差調査\n",
    "\n",
    "## 背景\n",
    "\n",
    "oiio を使って 10bit or 12bit の dpx ファイルを保存したい。しかし、oiio の I/F だと uint16 でデータをやりとりする必要がある。\n",
    "oiio の内部量子化？などによって誤差が生じないか大変不安である。問題が無いか確認を行う。\n",
    "\n",
    "## 手順\n",
    "\n",
    "1. 10bit or 12bit の Rampパターンを作成\n",
    "2. bitシフトして16bitの箱に入れる\n",
    "3. oiio で save and close.\n",
    "4. oiio で open and read.\n",
    "5. bitシフトして 10bit or 12bit にする。\n",
    "6. 最初の値からズレていないか verifyする。"
   ]
  }
 ],
 "metadata": {
  "kernelspec": {
   "display_name": "Python 3",
   "language": "python",
   "name": "python3"
  },
  "language_info": {
   "codemirror_mode": {
    "name": "ipython",
    "version": 3
   },
   "file_extension": ".py",
   "mimetype": "text/x-python",
   "name": "python",
   "nbconvert_exporter": "python",
   "pygments_lexer": "ipython3",
   "version": "3.5.4"
  }
 },
 "nbformat": 4,
 "nbformat_minor": 2
}
