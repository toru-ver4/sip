{
 "cells": [
  {
   "cell_type": "markdown",
   "metadata": {},
   "source": [
    "# はじめに\n",
    "ここでは色温度について英語版Wikipediaで学習した内容をまとめる。\n",
    "\n"
   ]
  },
  {
   "cell_type": "markdown",
   "metadata": {},
   "source": [
    "# 任意の色温度のxy色度を計算で求める\n",
    "\n",
    "以前より、どうすれば任意の色温度のxy色度が算出できるのか疑問だった。検索したら幾つか手法が出てきたのでまとめておく。\n",
    "\n",
    "## 標準光源D の xy色度\n",
    "\n",
    "### 式1 by Wikipedia の Standard_illuminant\n",
    "\n",
    "\\begin{align}\n",
    "x_D &= \\begin{cases}0.244,063+0.09911{\\frac {10^{3}}{T}}+2.967,8{\\frac {10^{6}}{T^{2}}}-4.607,0{\\frac {10^{9}}{T^{3}}}&4,000\\ \\mathrm {K} \\leq T\\leq 7,000\\ \\ \\mathrm {K} \\\\0.237,040+0.24748{\\frac {10^{3}}{T}}+1.901,8{\\frac {10^{6}}{T^{2}}}-2.006,4{\\frac {10^{9}}{T^{3}}}&7,000\\ \\mathrm {K} <T\\leq 25,000\\ \\mathrm {K} \\end{cases} \\\\\n",
    "y_{D} &= -3.000x_{D}^{2}+2.870x_{D}-0.275\n",
    "\\end{align}\n",
    "\n",
    "\n",
    "## 黒体放射のxy色度\n",
    "### Planckian locus の理論式\n",
    "\\begin{align}\n",
    "X_{T}&=\\int_{0}^{\\infty }X(\\lambda )M(\\lambda ,T)\\,d\\lambda \\\\\n",
    "Y_{T}&=\\int_{0}^{\\infty }Y(\\lambda )M(\\lambda ,T)\\,d\\lambda \\\\\n",
    "Z_{T}&=\\int_{0}^{\\infty }Z(\\lambda )M(\\lambda ,T)\\,d\\lambda \\\\\n",
    "x_{T}&={\\frac{X_{T}}{X_{T}+Y_{T}+Z_{T}}}\\\\\n",
    "y_{T}&={\\frac{Y_{T}}{X_{T}+Y_{T}+Z_{T}}}\\\\\n",
    "\\end{align}\n",
    "\n",
    "$M(\\lambda, T)$の定義は以下の通り。\n",
    "\n",
    "$$\n",
    "M(\\lambda ,T)={\\frac {c_{1}}{\\lambda ^{5}}}{\\frac {1}{\\exp \\left({\\frac {c_{2}}{{\\lambda }T}}\\right)-1}}\n",
    "$$\n",
    "\n",
    "ここで、$\\lambda$ は波長、$c$ は光速、$T$は色温度[K]を意味する。\n",
    "\n",
    "### 近似式\n",
    "\n",
    "\\begin{align}\n",
    "x_{c} &={\\begin{cases}-0.2661239{\\frac {10^{9}}{T^{3}}}-0.2343580{\\frac {10^{6}}{T^{2}}}+0.8776956{\\frac {10^{3}}{T}}+0.179910&1667{\\text{K}}\\leq T\\leq 4000{\\text{K}}\\\\-3.0258469{\\frac {10^{9}}{T^{3}}}+2.1070379{\\frac {10^{6}}{T^{2}}}+0.2226347{\\frac {10^{3}}{T}}+0.240390&4000{\\text{K}}\\leq T\\leq 25000{\\text{K}}\\end{cases}} \\\\\n",
    "y_{c} &={\\begin{cases}-1.1063814x_{c}^{3}-1.34811020x_{c}^{2}+2.18555832x_{c}-0.20219683&1667{\\text{K}}\\leq T\\leq 2222{\\text{K}}\\\\-0.9549476x_{c}^{3}-1.37418593x_{c}^{2}+2.09137015x_{c}-0.16748867&2222{\\text{K}}\\leq T\\leq 4000{\\text{K}}\\\\+3.0817580x_{c}^{3}-5.87338670x_{c}^{2}+3.75112997x_{c}-0.37001483&4000{\\text{K}}\\leq T\\leq 25000{\\text{K}}\\end{cases}}\n",
    "\\end{align}\n"
   ]
  }
 ],
 "metadata": {
  "kernelspec": {
   "display_name": "Python 3",
   "language": "python",
   "name": "python3"
  },
  "language_info": {
   "codemirror_mode": {
    "name": "ipython",
    "version": 3
   },
   "file_extension": ".py",
   "mimetype": "text/x-python",
   "name": "python",
   "nbconvert_exporter": "python",
   "pygments_lexer": "ipython3",
   "version": "3.5.1"
  }
 },
 "nbformat": 4,
 "nbformat_minor": 0
}
