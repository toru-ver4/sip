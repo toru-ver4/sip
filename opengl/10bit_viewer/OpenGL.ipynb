{
 "cells": [
  {
   "cell_type": "markdown",
   "metadata": {},
   "source": [
    "# はじめに\n",
    "ここでは、PyOpenGL の叩き方についてメモを残していく。\n",
    "\n",
    "## glTexImage2D()\n",
    "\n",
    "引数は以下の通り。\n",
    "\n",
    "```\n",
    "void glTexImage2D(\n",
    "    GLenum target,\n",
    "    GLint level,\n",
    "    GLint internalFormat,\n",
    "    GLsizei width,\n",
    "    GLsizei height,\n",
    "    GLint border,\n",
    "    GLenum format,\n",
    "    GLenum type,\n",
    "    const GLvoid * data);\n",
    "```\n",
    "\n",
    "ここで厄介なのは、*internalFormat*, *format*, *type* の3つである。<br>\n",
    "今のところ、以下の組み合わせでしか動作を確認できてない。使用する際は注意すること。<br>\n",
    "\n",
    "\n",
    "| 画像の型 --> | np.uint8 | np.uint16 | np.float16 | np.float32 | np.float64 |\n",
    "|:-------------|:---------|:----------|:-----------|:-----------|:-----------|\n",
    "| internalFormat         | GL_RGB             | GL_RGB        | -    | GL_RGB32F  | -          |\n",
    "| format | GL_RGB        | GL_RGB             |  -  | GL_RGB  | -          |\n",
    "| type | GL_UNSIGNED_BYTE| GL_UNSIGNED_SHORT  |  -  | GL_FLOAT  | -          |\n"
   ]
  }
 ],
 "metadata": {
  "kernelspec": {
   "display_name": "Python 3",
   "language": "python",
   "name": "python3"
  },
  "language_info": {
   "codemirror_mode": {
    "name": "ipython",
    "version": 3
   },
   "file_extension": ".py",
   "mimetype": "text/x-python",
   "name": "python",
   "nbconvert_exporter": "python",
   "pygments_lexer": "ipython3",
   "version": "3.5.1"
  }
 },
 "nbformat": 4,
 "nbformat_minor": 0
}
